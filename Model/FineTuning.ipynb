{
 "cells": [
  {
   "cell_type": "markdown",
   "id": "815a9a06",
   "metadata": {},
   "source": [
    "# Fine Tuning Hugging Face Model"
   ]
  },
  {
   "cell_type": "code",
   "execution_count": null,
   "id": "84bb984a",
   "metadata": {},
   "outputs": [],
   "source": [
    "\n"
   ]
  },
  {
   "cell_type": "markdown",
   "id": "6e14347b",
   "metadata": {},
   "source": [
    "# Pre Processing Data"
   ]
  },
  {
   "cell_type": "code",
   "execution_count": 3,
   "id": "fb5273a7",
   "metadata": {},
   "outputs": [
    {
     "name": "stderr",
     "output_type": "stream",
     "text": [
      "Map: 100%|██████████| 120/120 [00:00<00:00, 4000.00 examples/s]\n",
      "Map: 100%|██████████| 15/15 [00:00<00:00, 2143.23 examples/s]\n",
      "Map: 100%|██████████| 15/15 [00:00<00:00, 2143.01 examples/s]\n",
      "Saving the dataset (1/1 shards): 100%|██████████| 120/120 [00:00<00:00, 30005.75 examples/s]\n",
      "Saving the dataset (1/1 shards): 100%|██████████| 15/15 [00:00<00:00, 4999.57 examples/s]\n",
      "Saving the dataset (1/1 shards): 100%|██████████| 15/15 [00:00<00:00, 5000.76 examples/s]"
     ]
    },
    {
     "name": "stdout",
     "output_type": "stream",
     "text": [
      "Tokenized dataset saved to ../Dataset/CleanedData/genz_to_corp_dataset_tokenized\n"
     ]
    },
    {
     "name": "stderr",
     "output_type": "stream",
     "text": [
      "\n"
     ]
    }
   ],
   "source": [
    "from datasets import Dataset, DatasetDict, load_from_disk\n",
    "from transformers import T5Tokenizer\n",
    "import json\n",
    "\n",
    "# Loading Data\n",
    "data = []\n",
    "with open(\"../Dataset/genz_to_corp_dataset.jsonl\", \"r\") as f:\n",
    "    for line in f:\n",
    "        entry = json.loads(line)\n",
    "        data.append({\n",
    "            \"input_text\": f\"translate informal to formal: {entry['input']}\",\n",
    "            \"target_text\": entry['output']\n",
    "        })\n",
    "# Converting to Hugging Face Dataset\n",
    "raw_dataset = Dataset.from_list(data)\n",
    "\n",
    "split_dataset = raw_dataset.train_test_split(test_size=0.2, seed=42)\n",
    "test_valid = split_dataset[\"test\"].train_test_split(test_size=0.5, seed=42)\n",
    "\n",
    "dataset = DatasetDict({\n",
    "    \"train\": split_dataset[\"train\"],\n",
    "    \"validation\": test_valid[\"train\"],\n",
    "    \"test\": test_valid[\"test\"]\n",
    "})\n",
    "\n",
    "# Tokenization\n",
    "tokenizer = T5Tokenizer.from_pretrained(\"t5-small\")\n",
    "max_input_length = 128\n",
    "max_target_length = 128\n",
    "\n",
    "def preprocess_function(examples):\n",
    "    inputs = tokenizer(\n",
    "        examples[\"input_text\"],\n",
    "        max_length=max_input_length,   \n",
    "        padding=\"max_length\",\n",
    "        truncation=True\n",
    "    )\n",
    "    targets = tokenizer(\n",
    "        examples[\"target_text\"],\n",
    "        max_length=max_target_length,\n",
    "        padding=\"max_length\",\n",
    "        truncation=True\n",
    "    )\n",
    "    inputs[\"labels\"] = targets[\"input_ids\"]\n",
    "    return inputs\n",
    "\n",
    "tokenized_datasets = dataset.map(\n",
    "    preprocess_function,\n",
    "    batched=True,\n",
    ")\n",
    "\n",
    "output_path = \"../Dataset/CleanedData/genz_to_corp_dataset_tokenized\"\n",
    "tokenized_datasets.save_to_disk(output_path)\n",
    "print(f\"Tokenized dataset saved to {output_path}\")"
   ]
  },
  {
   "cell_type": "code",
   "execution_count": 5,
   "id": "98cc3608",
   "metadata": {},
   "outputs": [
    {
     "name": "stdout",
     "output_type": "stream",
     "text": [
      "Train size: 120\n",
      "Validation size: 15\n",
      "Test size: 15\n"
     ]
    }
   ],
   "source": [
    "from datasets import load_from_disk\n",
    "tokenized_datasets = load_from_disk(\"../Dataset/CleanedData/genz_to_corp_dataset_tokenized\")\n",
    "\n",
    "train = tokenized_datasets[\"train\"]\n",
    "validation = tokenized_datasets[\"validation\"]\n",
    "test = tokenized_datasets[\"test\"]\n",
    "\n",
    "print(f\"Train size: {len(train)}\"\n",
    "      f\"\\nValidation size: {len(validation)}\"\n",
    "      f\"\\nTest size: {len(test)}\")"
   ]
  },
  {
   "cell_type": "markdown",
   "id": "3d553b0f",
   "metadata": {},
   "source": [
    "# Validating Model"
   ]
  },
  {
   "cell_type": "markdown",
   "id": "85c125e3",
   "metadata": {},
   "source": [
    "# Testing Model"
   ]
  },
  {
   "cell_type": "code",
   "execution_count": null,
   "id": "84019df1",
   "metadata": {},
   "outputs": [],
   "source": []
  },
  {
   "cell_type": "markdown",
   "id": "371b9b81",
   "metadata": {},
   "source": [
    "# Pre Processing"
   ]
  }
 ],
 "metadata": {
  "kernelspec": {
   "display_name": ".venv",
   "language": "python",
   "name": "python3"
  },
  "language_info": {
   "codemirror_mode": {
    "name": "ipython",
    "version": 3
   },
   "file_extension": ".py",
   "mimetype": "text/x-python",
   "name": "python",
   "nbconvert_exporter": "python",
   "pygments_lexer": "ipython3",
   "version": "3.9.13"
  }
 },
 "nbformat": 4,
 "nbformat_minor": 5
}
